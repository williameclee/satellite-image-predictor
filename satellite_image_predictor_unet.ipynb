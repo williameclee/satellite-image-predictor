{
 "cells": [
  {
   "cell_type": "markdown",
   "metadata": {
    "id": "vP1dyOkIK84v"
   },
   "source": [
    "# Initialisation"
   ]
  },
  {
   "cell_type": "code",
   "execution_count": null,
   "metadata": {
    "executionInfo": {
     "elapsed": 4066,
     "status": "ok",
     "timestamp": 1743318715063,
     "user": {
      "displayName": "En-Chi “Will” Lee",
      "userId": "10244781745410421206"
     },
     "user_tz": 420
    },
    "id": "OXVQ96kEK48-"
   },
   "outputs": [],
   "source": [
    "import os, sys\n",
    "import torch\n",
    "import torch.nn as nn\n",
    "from torch.utils.data import Dataset, DataLoader, SubsetRandomSampler\n",
    "from torchvision import transforms\n",
    "import numpy as np\n",
    "from PIL import Image\n",
    "import random\n",
    "\n",
    "sys.path.append(\"models\")\n",
    "from UNetGenerator import UNetGenerator\n",
    "from SatelliteDataset import SatelliteDataset\n",
    "\n",
    "print(\n",
    "    f\"PyTorch version: {torch.__version__}, MPS available: {torch.backends.mps.is_available()}\"\n",
    ")\n",
    "\n",
    "import matplotlib.pyplot as plt\n",
    "from landcovervis import landcover, landcovernorm"
   ]
  },
  {
   "cell_type": "markdown",
   "metadata": {
    "id": "H9SeZv_oLP6y"
   },
   "source": [
    "# Data Preparation"
   ]
  },
  {
   "cell_type": "code",
   "execution_count": null,
   "metadata": {
    "executionInfo": {
     "elapsed": 1293,
     "status": "ok",
     "timestamp": 1743318715856,
     "user": {
      "displayName": "En-Chi “Will” Lee",
      "userId": "10244781745410421206"
     },
     "user_tz": 420
    },
    "id": "YqHg7paiLG0F"
   },
   "outputs": [],
   "source": [
    "tile_size = 256  # Size of each tile (256x256)\n",
    "in_channels = 2  # DEM, land cover\n",
    "# in_channels = 3  # DEM, land cover, hillshade\n",
    "batch_size = 16\n",
    "learning_rate = 1e-3\n",
    "\n",
    "input_path = \"/Users/williameclee/Documents/college/MATH/2025_1-MATH496T/satellite-image-predictor/training-data/unet-input.tif\"\n",
    "target_path = \"/Users/williameclee/Documents/college/MATH/2025_1-MATH496T/satellite-image-predictor/training-data/unet-target.tif\"\n",
    "\n",
    "device = torch.device(\"mps\" if torch.backends.mps.is_available() else \"cpu\")"
   ]
  },
  {
   "cell_type": "code",
   "execution_count": null,
   "metadata": {
    "executionInfo": {
     "elapsed": 2058,
     "status": "ok",
     "timestamp": 1743318722171,
     "user": {
      "displayName": "En-Chi “Will” Lee",
      "userId": "10244781745410421206"
     },
     "user_tz": 420
    },
    "id": "RJacgTtEP1YZ"
   },
   "outputs": [],
   "source": [
    "genmodel = UNetGenerator(in_channels=in_channels).to(device)\n",
    "genmodel.load_state_dict(\n",
    "    torch.load(\n",
    "        f\"/Users/williameclee/Documents/college/MATH/2025_1-MATH496T/satellite-image-predictor/models/unet-T{tile_size}C{in_channels}_best.pth\",\n",
    "        map_location=device,\n",
    "    )\n",
    ")\n",
    "\n",
    "optimiser = torch.optim.Adam(genmodel.parameters(), lr=learning_rate)\n",
    "criterion = nn.MSELoss()\n",
    "\n",
    "dataset = SatelliteDataset(\n",
    "    input_path,\n",
    "    target_path,\n",
    "    tile_size=tile_size,\n",
    "    in_channels=in_channels,\n",
    "    rotate=True,\n",
    "    # forest_gamma=1.2,\n",
    ")\n",
    "train_loader = DataLoader(dataset, batch_size=batch_size, shuffle=True)"
   ]
  },
  {
   "cell_type": "code",
   "execution_count": null,
   "metadata": {
    "colab": {
     "background_save": true
    },
    "id": "YTUIul-dPy_i"
   },
   "outputs": [],
   "source": [
    "epochs = 200\n",
    "subset_fraction = 0.25\n",
    "\n",
    "best_loss = float(\"inf\")\n",
    "\n",
    "for epoch in range(epochs):\n",
    "    num_samples = int(len(dataset) * subset_fraction)\n",
    "    indices = random.sample(range(len(dataset)), num_samples)\n",
    "    sampler = SubsetRandomSampler(indices)\n",
    "    train_loader = DataLoader(dataset, batch_size=batch_size, sampler=sampler)\n",
    "\n",
    "    genmodel.train()\n",
    "    epoch_loss = 0\n",
    "    for batch in train_loader:\n",
    "        x, y = batch\n",
    "        x, y = x.to(device), y.to(device)\n",
    "        pred = genmodel(x)\n",
    "        loss = criterion(pred, y)\n",
    "        optimiser.zero_grad()\n",
    "        loss.backward()\n",
    "        optimiser.step()\n",
    "        epoch_loss += loss.item()\n",
    "\n",
    "    if epoch_loss < best_loss:\n",
    "        best_loss = epoch_loss\n",
    "        torch.save(\n",
    "            genmodel.state_dict(),\n",
    "            f\"/Users/williameclee/Documents/college/MATH/2025_1-MATH496T/satellite-image-predictor/models/unet-T{tile_size}C{in_channels}_best.pth\",\n",
    "        )\n",
    "        print(\n",
    "            f\"Epoch {epoch+1:2d}/{epochs:2d}  Loss: {epoch_loss/len(train_loader):.4f}  Saved best model\"\n",
    "        )\n",
    "    else:\n",
    "        print(\n",
    "            f\"Epoch {epoch+1:2d}/{epochs:2d}  Loss: {epoch_loss/len(train_loader):.4f}\"\n",
    "        )\n",
    "\n",
    "    nTests = 2\n",
    "    with torch.no_grad():\n",
    "        x, y = next(iter(train_loader))\n",
    "        x, y = x.to(device), y.to(device)\n",
    "        pred = genmodel(x).cpu().numpy()\n",
    "        fig, axes = plt.subplots(\n",
    "            nTests, 2 + in_channels, figsize=(5 * (2 + in_channels), nTests * 3 + 1)\n",
    "        )\n",
    "        for i in range(nTests):\n",
    "            axes[i, 0].imshow(x[i][0].cpu(), cmap=\"terrain\", vmin=0, vmax=4000)\n",
    "            axes[i, 1].imshow(x[i][1].cpu(), cmap=landcover, norm=landcovernorm)\n",
    "            if in_channels == 3:\n",
    "                axes[i, 2].imshow(\n",
    "                    x[i][2].cpu(), cmap=\"gray\", vmin=0, vmax=1\n",
    "                )  # Hillshade\n",
    "            axes[i, in_channels].imshow(np.transpose(pred[i], (1, 2, 0)))\n",
    "            axes[i, in_channels + 1].imshow(y[i].cpu().numpy().transpose(1, 2, 0))\n",
    "\n",
    "            # Cosmetic\n",
    "            for j in range(4):\n",
    "                axes[i, j].set_xticks([])\n",
    "                axes[i, j].set_yticks([])\n",
    "                axes[i, 0].set_axis_off()\n",
    "\n",
    "            if i == 0:\n",
    "                axes[i, 0].set_title(\"DEM\")\n",
    "                axes[i, 1].set_title(\"Land Cover\")\n",
    "                if in_channels == 3:\n",
    "                    axes[i, 2].set_title(\"Hillshade\")\n",
    "                axes[i, in_channels].set_title(\"Predicted RGB\")\n",
    "                axes[i, in_channels + 1].set_title(\"True RGB\")\n",
    "        plt.tight_layout()\n",
    "        plt.show()\n",
    "\n",
    "torch.save(\n",
    "    genmodel.state_dict(),\n",
    "    f\"/Users/williameclee/Documents/college/MATH/2025_1-MATH496T/satellite-image-predictor/models/unet-T{tile_size}C{in_channels}.pth\",\n",
    ")"
   ]
  },
  {
   "cell_type": "code",
   "execution_count": null,
   "metadata": {
    "id": "j5j5tFjYP32Q"
   },
   "outputs": [],
   "source": [
    "dataset = SatelliteDataset(\n",
    "    input_path,\n",
    "    target_path,\n",
    "    tile_size=tile_size,\n",
    "    in_channels=2,\n",
    "    rotate=False,\n",
    ")\n",
    "genmodel = UNetGenerator(in_channels=2).to(device)\n",
    "genmodel.load_state_dict(\n",
    "    torch.load(\n",
    "        f\"/Users/williameclee/Documents/college/MATH/2025_1-MATH496T/satellite-image-predictor/models/unet-T{tile_size}C2_best.pth\",\n",
    "        map_location=device,\n",
    "    )\n",
    ")\n",
    "genmodel.eval()\n",
    "\n",
    "dataset_hs = SatelliteDataset(\n",
    "    input_path,\n",
    "    target_path,\n",
    "    tile_size=tile_size,\n",
    "    in_channels=3,\n",
    "    rotate=False,\n",
    ")\n",
    "genmodel_hs = UNetGenerator(in_channels=3).to(device)\n",
    "genmodel_hs.load_state_dict(\n",
    "    torch.load(\n",
    "        f\"/Users/williameclee/Documents/college/MATH/2025_1-MATH496T/satellite-image-predictor/models/unet-T{tile_size}C3_best.pth\",\n",
    "        map_location=device,\n",
    "    )\n",
    ")\n",
    "genmodel_hs.eval()\n",
    "\n",
    "testId = [30, 800, 64]\n",
    "\n",
    "with torch.no_grad():\n",
    "    x_list, x_list_hs, y_list = [], [], []\n",
    "    for iTest in testId:  # Choose specific sample indices here\n",
    "        x_item, y_item = dataset[iTest]\n",
    "        x_item_hs, _ = dataset_hs[iTest]\n",
    "        x_list.append(x_item)\n",
    "        x_list_hs.append(x_item_hs)\n",
    "        y_list.append(y_item)\n",
    "\n",
    "    x = torch.stack(x_list).to(device)\n",
    "    x_hs = torch.stack(x_list_hs).to(device)\n",
    "    y = torch.stack(y_list).to(device)\n",
    "\n",
    "    pred = genmodel(x).cpu().numpy()\n",
    "    pred_hs = genmodel_hs(x_hs).cpu().numpy()\n",
    "\n",
    "    for iTest in range(len(testId)):\n",
    "        plt.rcParams.update({\"font.size\": 6})\n",
    "        fig, axes = plt.subplots(2, 3, figsize=(5, 3))\n",
    "        axes[0, 0].imshow(x_hs[iTest][0].cpu(), cmap=\"terrain\", vmin=0, vmax=4000)\n",
    "        axes[0, 1].imshow(x_hs[iTest][1].cpu(), cmap=landcover, norm=landcovernorm)\n",
    "        axes[0, 2].imshow(\n",
    "            x_hs[iTest][2].cpu(), cmap=\"gray\", vmin=0, vmax=1\n",
    "        )  # Hillshade\n",
    "        axes[1, 0].imshow(np.transpose(pred[iTest], (1, 2, 0)))\n",
    "        axes[1, 1].imshow(np.transpose(pred_hs[iTest], (1, 2, 0)))\n",
    "        axes[1, 2].imshow(y[iTest].cpu().numpy().transpose(1, 2, 0))\n",
    "\n",
    "        # Cosmetic\n",
    "        for i in range(2):\n",
    "            for j in range(3):\n",
    "                axes[i, j].set_xticks([])\n",
    "                axes[i, j].set_yticks([])\n",
    "                axes[i, 0].set_axis_off()\n",
    "\n",
    "        axes[0, 0].set_title(\"DEM\")\n",
    "        axes[0, 1].set_title(\"Land Cover\")\n",
    "        axes[0, 2].set_title(\"HS\")\n",
    "        axes[1, 0].set_title(\"Prediction, w/o HS\")\n",
    "        axes[1, 1].set_title(\"Prediction, w/ HS\")\n",
    "        axes[1, 2].set_title(\"Ground truth\")\n",
    "\n",
    "        plt.tight_layout()\n",
    "        plt.savefig(\n",
    "            f\"figures/unet_test-{testId[iTest]}.png\", dpi=600, bbox_inches=\"tight\"\n",
    "        )\n",
    "        plt.show()"
   ]
  }
 ],
 "metadata": {
  "colab": {
   "authorship_tag": "ABX9TyNTTytr05FgxkoYDYZiGjj9",
   "name": "",
   "version": ""
  },
  "kernelspec": {
   "display_name": "geoai",
   "language": "python",
   "name": "python3"
  },
  "language_info": {
   "codemirror_mode": {
    "name": "ipython",
    "version": 3
   },
   "file_extension": ".py",
   "mimetype": "text/x-python",
   "name": "python",
   "nbconvert_exporter": "python",
   "pygments_lexer": "ipython3",
   "version": "3.10.13"
  }
 },
 "nbformat": 4,
 "nbformat_minor": 0
}
